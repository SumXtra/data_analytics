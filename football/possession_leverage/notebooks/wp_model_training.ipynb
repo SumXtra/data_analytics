{
 "cells": [
  {
   "cell_type": "code",
   "execution_count": 17,
   "id": "0d9f1274",
   "metadata": {},
   "outputs": [],
   "source": [
    "import nfl_data_py as nfl\n",
    "import pandas as pd\n",
    "import numpy as np\n",
    "import joblib\n",
    "from sklearn.model_selection import train_test_split\n",
    "from sklearn.compose import ColumnTransformer\n",
    "from sklearn.preprocessing import OneHotEncoder\n",
    "from sklearn.pipeline import Pipeline\n",
    "from sklearn.metrics import r2_score, brier_score_loss\n",
    "from sklearn.ensemble import HistGradientBoostingRegressor\n",
    "from sklearn.isotonic import IsotonicRegression"
   ]
  },
  {
   "cell_type": "code",
   "execution_count": 18,
   "id": "1b072e7d",
   "metadata": {},
   "outputs": [
    {
     "name": "stdout",
     "output_type": "stream",
     "text": [
      "2015 done.\n",
      "2016 done.\n",
      "2017 done.\n",
      "2018 done.\n",
      "2019 done.\n",
      "2020 done.\n",
      "2021 done.\n",
      "2022 done.\n",
      "2023 done.\n",
      "2024 done.\n",
      "Downcasting floats.\n",
      "(483605, 398)\n"
     ]
    }
   ],
   "source": [
    "seasons = list(range(2015, 2025))\n",
    "pbp = nfl.import_pbp_data(seasons)\n",
    "\n",
    "print(pbp.shape)"
   ]
  },
  {
   "cell_type": "code",
   "execution_count": 19,
   "id": "35187fa4",
   "metadata": {},
   "outputs": [
    {
     "name": "stdout",
     "output_type": "stream",
     "text": [
      "R^2 on holdout: 0.9943579528872147\n",
      "Saved model to ../models/wp_model.pkl\n"
     ]
    },
    {
     "data": {
      "text/plain": [
       "['../models/wp_model_meta.pkl']"
      ]
     },
     "execution_count": 19,
     "metadata": {},
     "output_type": "execute_result"
    }
   ],
   "source": [
    "train = pbp.copy()\n",
    "\n",
    "train = train.dropna(subset=['wp','qtr','game_seconds_remaining','score_differential','yardline_100'])\n",
    "train['down']    = train['down'].fillna(1).clip(1,4)\n",
    "train['ydstogo'] = train['ydstogo'].fillna(10).clip(1,50)\n",
    "train['posteam_is_home'] = (train['posteam'] == train['home_team']).astype(int)\n",
    "train['posteam_timeouts_remaining'] = train['posteam_timeouts_remaining'].fillna(2).clip(0,3)\n",
    "train['defteam_timeouts_remaining'] = train['defteam_timeouts_remaining'].fillna(2).clip(0,3)\n",
    "train['abs_score_diff'] = train['score_differential'].abs()\n",
    "train['two_possession_offense'] = (train['score_differential'] >= 9).astype(int)\n",
    "\n",
    "# --- 3. 📌 Add late-game signal features HERE ---\n",
    "train['u120']  = (train['game_seconds_remaining'] <= 120).astype(int)\n",
    "train['u60']   = (train['game_seconds_remaining'] <= 60).astype(int)\n",
    "train['u30']   = (train['game_seconds_remaining'] <= 30).astype(int)\n",
    "train['u15']   = (train['game_seconds_remaining'] <= 15).astype(int)\n",
    "train['log_secs'] = np.log1p(train['game_seconds_remaining'])\n",
    "\n",
    "# --- 4. Feature list ---\n",
    "feat_cols = [\n",
    "    'qtr','game_seconds_remaining','log_secs','score_differential','yardline_100',\n",
    "    'down','ydstogo','posteam_is_home',\n",
    "    'posteam_timeouts_remaining','defteam_timeouts_remaining',\n",
    "    'abs_score_diff','two_possession_offense',\n",
    "    'u120','u60','u30','u15'\n",
    "]\n",
    "\n",
    "\n",
    "X = train[feat_cols].copy()\n",
    "y = train['wp'].astype(float).clip(0, 1)\n",
    "\n",
    "# 7) Train/Validate split\n",
    "Xtr, Xva, ytr, yva = train_test_split(X, y, test_size=0.2, random_state=42)\n",
    "\n",
    "# 8) Model: more trees, modest LR; try monotonic constraints (if your sklearn supports it)\n",
    "#    Monotonic constraints vector must match feat_cols order:\n",
    "#      +1 means prediction should increase as feature increases; -1 decrease; 0 = no constraint\n",
    "mono = [\n",
    "    0,   # qtr (non-monotonic)\n",
    "    0,   # game_seconds_remaining (non-monotonic globally)\n",
    "    +1,  # score_differential (offense perspective)\n",
    "    -1,  # yardline_100 (farther from opp EZ is worse for offense)\n",
    "    -1,  # down\n",
    "    -1,  # ydstogo\n",
    "    +1,  # posteam_is_home\n",
    "    +1,  # posteam_timeouts_remaining\n",
    "    -1,  # defteam_timeouts_remaining\n",
    "    +1,  # abs_score_diff (offense perspective)\n",
    "    +1   # two_possession_offense\n",
    "]\n",
    "\n",
    "\n",
    "# --- 5. Train/Validation split ---\n",
    "X = train[feat_cols]\n",
    "y = train['wp']\n",
    "Xtr, Xva, ytr, yva = train_test_split(X, y, test_size=0.2, random_state=42)\n",
    "\n",
    "# --- 6. Train model ---\n",
    "model = HistGradientBoostingRegressor(\n",
    "    max_iter=700,\n",
    "    learning_rate=0.045,\n",
    "    max_depth=7,\n",
    "    max_bins=255,\n",
    "    early_stopping=True,\n",
    "    validation_fraction=0.1\n",
    ")\n",
    "model.fit(Xtr, ytr)\n",
    "\n",
    "Xcal, Xhold, ycal, yhold = train_test_split(Xva, yva, test_size=0.5, random_state=42)\n",
    "\n",
    "p_cal_raw = np.clip(model.predict(Xcal), 0, 1)\n",
    "iso = IsotonicRegression(out_of_bounds='clip')\n",
    "iso.fit(p_cal_raw, ycal)\n",
    "\n",
    "# Evaluate calibration on the held-out part of validation\n",
    "p_hold_raw = np.clip(model.predict(Xhold), 0, 1)\n",
    "p_hold_cal = iso.transform(p_hold_raw)\n",
    "\n",
    "# 9) Quick sanity check\n",
    "pred_va = model.predict(Xva)\n",
    "print(\"R^2 on holdout:\", r2_score(yva, pred_va))\n",
    "\n",
    "# 10) Save\n",
    "joblib.dump(model, '../models/wp_model.pkl')\n",
    "print(\"Saved model to ../models/wp_model.pkl\")\n",
    "\n",
    "artifacts = {\n",
    "    \"feat_cols\": feat_cols,\n",
    "    \"defaults\": {\"posteam_timeouts_remaining\": 2, \"defteam_timeouts_remaining\": 2}\n",
    "}\n",
    "joblib.dump(artifacts, \"../models/wp_model_meta.pkl\")\n"
   ]
  }
 ],
 "metadata": {
  "kernelspec": {
   "display_name": "football",
   "language": "python",
   "name": "python3"
  },
  "language_info": {
   "codemirror_mode": {
    "name": "ipython",
    "version": 3
   },
   "file_extension": ".py",
   "mimetype": "text/x-python",
   "name": "python",
   "nbconvert_exporter": "python",
   "pygments_lexer": "ipython3",
   "version": "3.12.11"
  }
 },
 "nbformat": 4,
 "nbformat_minor": 5
}
